{
 "cells": [
  {
   "cell_type": "markdown",
   "metadata": {},
   "source": [
    "# Intro to map/reduce"
   ]
  },
  {
   "cell_type": "markdown",
   "metadata": {},
   "source": [
    "## Lambda function\n",
    "\n",
    "Python allows to create anonymous function, called lambda.\n",
    "Lambda function doesn't include return statement and doesn't have name."
   ]
  },
  {
   "cell_type": "code",
   "execution_count": 579,
   "metadata": {},
   "outputs": [
    {
     "name": "stdout",
     "output_type": "stream",
     "text": [
      "8\n",
      "8\n"
     ]
    }
   ],
   "source": [
    "# Standard function\n",
    "def power(base, exponent):\n",
    "    return base**exponent\n",
    "\n",
    "print(power(2,3))\n",
    "\n",
    "# Lambda construction\n",
    "p = lambda b,e: b**e\n",
    "    \n",
    "print(p(2,3))"
   ]
  },
  {
   "cell_type": "markdown",
   "metadata": {},
   "source": [
    "\n",
    "## filter function"
   ]
  },
  {
   "cell_type": "code",
   "execution_count": 580,
   "metadata": {},
   "outputs": [
    {
     "name": "stdout",
     "output_type": "stream",
     "text": [
      "[0, 1, 2, 3, 4, 5, 6, 7, 8, 9, 10, 11, 12, 13, 14, 15, 16, 17, 18, 19, 20, 21, 22, 23, 24, 25, 26, 27, 28, 29, 30, 31, 32, 33, 34, 35, 36, 37, 38, 39, 40, 41, 42, 43, 44, 45, 46, 47, 48, 49, 50, 51, 52, 53, 54, 55, 56, 57, 58, 59, 60, 61, 62, 63, 64, 65, 66, 67, 68, 69, 70, 71, 72, 73, 74, 75, 76, 77, 78, 79, 80, 81, 82, 83, 84, 85, 86, 87, 88, 89, 90, 91, 92, 93, 94, 95, 96, 97, 98, 99]\n"
     ]
    }
   ],
   "source": [
    "# We use list comprehension to create list with 100 numbers\n",
    "numbers = [x for x in range(100)]\n",
    "print(numbers)"
   ]
  },
  {
   "cell_type": "markdown",
   "metadata": {},
   "source": [
    "The filter resembles a for loop but it is a builtin function and faster.\n",
    "Filter always return an iterator!"
   ]
  },
  {
   "cell_type": "code",
   "execution_count": 581,
   "metadata": {},
   "outputs": [
    {
     "name": "stdout",
     "output_type": "stream",
     "text": [
      "0\n",
      "5\n",
      "10\n",
      "15\n",
      "20\n",
      "25\n",
      "30\n",
      "35\n",
      "40\n",
      "45\n",
      "50\n",
      "55\n",
      "60\n",
      "65\n",
      "70\n",
      "75\n",
      "80\n",
      "85\n",
      "90\n",
      "95\n"
     ]
    }
   ],
   "source": [
    "# Simple function that return true when the number is divided by 5\n",
    "def is_divided_by_5(number):\n",
    "    if number % 5 == 0:\n",
    "        return True\n",
    "    else:\n",
    "        return False\n",
    "\n",
    "numbers_div5_iterator = filter(is_divided_by_5, numbers)\n",
    "\n",
    "# filter return iterator, so we need use for loop to get all elements\n",
    "for n in numbers_div5_iterator:\n",
    "    print(n)"
   ]
  },
  {
   "cell_type": "code",
   "execution_count": 582,
   "metadata": {},
   "outputs": [
    {
     "name": "stdout",
     "output_type": "stream",
     "text": [
      "0\n",
      "5\n",
      "10\n",
      "15\n",
      "20\n",
      "25\n",
      "30\n",
      "35\n",
      "40\n",
      "45\n",
      "50\n",
      "55\n",
      "60\n",
      "65\n",
      "70\n",
      "75\n",
      "80\n",
      "85\n",
      "90\n",
      "95\n"
     ]
    }
   ],
   "source": [
    "# Similar code but with lambda construction\n",
    "numbers_div5_iterator = filter(lambda x: x % 5 == 0, numbers)\n",
    "\n",
    "for n in numbers_div5_iterator:\n",
    "    print(n)"
   ]
  },
  {
   "cell_type": "code",
   "execution_count": 583,
   "metadata": {},
   "outputs": [
    {
     "name": "stdout",
     "output_type": "stream",
     "text": [
      "[0, 5, 10, 15, 20, 25, 30, 35, 40, 45, 50, 55, 60, 65, 70, 75, 80, 85, 90, 95]\n",
      "[]\n"
     ]
    }
   ],
   "source": [
    "numbers_div5_iterator = filter(lambda x: x % 5 == 0, numbers)\n",
    "\n",
    "# Simple way to create list from iterator\n",
    "numbers_div5_list = list(numbers_div5_iterator)\n",
    "print(numbers_div5_list)\n",
    "\n",
    "# HINT: iterator can be used only once\n",
    "#       Python's iterator protocol is very simple, and only provides \n",
    "#       one single method (.next() or __next__()), \n",
    "#       and no method to reset an iterator in general.\n",
    "\n",
    "numbers_div5_list = list(numbers_div5_iterator)\n",
    "print(numbers_div5_list)"
   ]
  },
  {
   "cell_type": "code",
   "execution_count": 584,
   "metadata": {},
   "outputs": [
    {
     "name": "stdout",
     "output_type": "stream",
     "text": [
      "['Bob', 'Barbara']\n"
     ]
    }
   ],
   "source": [
    "# filter can be used with different type of lists\n",
    "\n",
    "names = ['Anne', 'Amy', 'Bob', 'David', 'Carrie', 'Barbara']\n",
    "names_start_with_b = list(filter(lambda s: s.startswith('B'), names))\n",
    "print(names_start_with_b)"
   ]
  },
  {
   "cell_type": "markdown",
   "metadata": {},
   "source": [
    "## map function\n",
    "\n",
    "Blueprint:   map(function_to_apply, list_of_inputs)"
   ]
  },
  {
   "cell_type": "code",
   "execution_count": 585,
   "metadata": {},
   "outputs": [
    {
     "name": "stdout",
     "output_type": "stream",
     "text": [
      "List1:  [1, 2, 3, 4, 5]\n",
      "List2:  [6, 7, 8, 9, 10]\n",
      "List result:  [7, 9, 11, 13, 15]\n"
     ]
    }
   ],
   "source": [
    "list_1 = [x for x in range(1,6)]\n",
    "list_2 = [x for x in range(6,11)]\n",
    "\n",
    "print('List1: ', list_1)\n",
    "print('List2: ', list_2)\n",
    "list_result = list(map(lambda x,y:x+y, list_1,list_2))\n",
    "print('List result: ', list_result)"
   ]
  },
  {
   "cell_type": "markdown",
   "metadata": {},
   "source": [
    "## reduce function\n",
    "\n",
    "Blueprint:   map(function_to_apply, list_of_inputs)\n",
    "             list_of_inputs = [el_1, el_2, el_3]\n",
    "\n",
    "The function is used to apply a function to all of the list elements. \n",
    "1. At the beginning the first the first two elements of list is applied to the function\n",
    "2. In the next step functiom is applied on the previous result and the third element of the list: function(function(el_1, el_2),el_3)"
   ]
  },
  {
   "cell_type": "code",
   "execution_count": 586,
   "metadata": {},
   "outputs": [
    {
     "name": "stdout",
     "output_type": "stream",
     "text": [
      "List1:  [1, 2, 3, 4, 5]\n",
      "List1 reduced:  15\n",
      "List1 reduced:  15\n"
     ]
    }
   ],
   "source": [
    "from functools import reduce\n",
    "\n",
    "def add(x,y):\n",
    "    return x + y\n",
    "\n",
    "list_1 = [x for x in range(1,6)]\n",
    "\n",
    "print('List1: ', list_1)\n",
    "print('List1 reduced: ', reduce(add, list_1))\n",
    "\n",
    "# The same example using lambda func\n",
    "print('List1 reduced: ', reduce(lambda x,y: x+y, list_1))"
   ]
  },
  {
   "cell_type": "markdown",
   "metadata": {},
   "source": [
    "## TODO"
   ]
  },
  {
   "cell_type": "code",
   "execution_count": 587,
   "metadata": {},
   "outputs": [
    {
     "name": "stdout",
     "output_type": "stream",
     "text": [
      "[6, 5, 6, 7]\n"
     ]
    }
   ],
   "source": [
    "xx = ['Snappy', 'Kitty', 'Jessie', 'Chester']\n",
    "#xx = [1,2,3]\n",
    "\n",
    "# TODO Create a list with the number of character of each word. Use map & len function\n",
    "no_of_char = list(map(len, xx))\n",
    "print(no_of_char)\n"
   ]
  },
  {
   "cell_type": "code",
   "execution_count": 588,
   "metadata": {},
   "outputs": [
    {
     "name": "stdout",
     "output_type": "stream",
     "text": [
      "Lorem ipsum dolor sit amet, consectetuer adipiscing elit. Donec odio. Quisque volutpat mattis eros. Nullam malesuada erat ut turpis. Suspendisse urna nibh, viverra non, semper suscipit, posuere a, pede. Donec nec justo eget felis facilisis fermentum. Aliquam porttitor mauris sit amet orci. Aenean dignissim pellentesque felis.\n"
     ]
    },
    {
     "data": {
      "text/plain": [
       "46"
      ]
     },
     "execution_count": 588,
     "metadata": {},
     "output_type": "execute_result"
    }
   ],
   "source": [
    "sentences = \"Lorem ipsum dolor sit amet, consectetuer adipiscing elit. Donec odio. \\\n",
    "Quisque volutpat mattis eros. Nullam malesuada erat ut turpis. Suspendisse urna nibh, \\\n",
    "viverra non, semper suscipit, posuere a, pede. \\\n",
    "Donec nec justo eget felis facilisis fermentum. Aliquam porttitor mauris sit amet orci. \\\n",
    "Aenean dignissim pellentesque felis.\"\n",
    "print(sentences)\n",
    "import string\n",
    "translator = str.maketrans('', '', string.punctuation)\n",
    "count_words_here = sentences.translate(translator)\n",
    "\n",
    "count_words_here = count_words_here.split(' ')\n",
    "\n",
    "from functools import reduce\n",
    "reduce(lambda x,y: x+y, list(map(lambda x: 1, count_words_here)))\n",
    "# TODO Find the number of words in the sentence:\n",
    "\n",
    "## Hint:\n",
    "# 1. remove punctuations\n",
    "# 2. split the resulting sentence\n",
    "# 3. map \"1\" to each word of sentence\n",
    "# 4. reduce to find the number of words in the sentence"
   ]
  },
  {
   "cell_type": "code",
   "execution_count": 589,
   "metadata": {},
   "outputs": [
    {
     "name": "stdout",
     "output_type": "stream",
     "text": [
      "Apr-04 cola 1 5\n",
      "Dec-15 cola 2 4\n",
      "Feb-02 Sandwith 3 22\n",
      "Mar-03 burger 8 11\n",
      "Feb-22 Sandwith 3 22\n",
      "Feb-23 burger 5 15\n",
      "Mar-08 burger 2 14\n",
      "Product which brought most money:\n",
      "           1   2\n",
      "0              \n",
      "Sandwith  6  44 \n",
      " summary:\n"
     ]
    },
    {
     "data": {
      "text/html": [
       "<div>\n",
       "<style>\n",
       "    .dataframe thead tr:only-child th {\n",
       "        text-align: right;\n",
       "    }\n",
       "\n",
       "    .dataframe thead th {\n",
       "        text-align: left;\n",
       "    }\n",
       "\n",
       "    .dataframe tbody tr th {\n",
       "        vertical-align: top;\n",
       "    }\n",
       "</style>\n",
       "<table border=\"1\" class=\"dataframe\">\n",
       "  <thead>\n",
       "    <tr style=\"text-align: right;\">\n",
       "      <th></th>\n",
       "      <th>1</th>\n",
       "      <th>2</th>\n",
       "    </tr>\n",
       "    <tr>\n",
       "      <th>0</th>\n",
       "      <th></th>\n",
       "      <th></th>\n",
       "    </tr>\n",
       "  </thead>\n",
       "  <tbody>\n",
       "    <tr>\n",
       "      <th>Sandwith</th>\n",
       "      <td>6</td>\n",
       "      <td>44</td>\n",
       "    </tr>\n",
       "    <tr>\n",
       "      <th>burger</th>\n",
       "      <td>15</td>\n",
       "      <td>40</td>\n",
       "    </tr>\n",
       "    <tr>\n",
       "      <th>cola</th>\n",
       "      <td>3</td>\n",
       "      <td>9</td>\n",
       "    </tr>\n",
       "  </tbody>\n",
       "</table>\n",
       "</div>"
      ],
      "text/plain": [
       "           1   2\n",
       "0               \n",
       "Sandwith   6  44\n",
       "burger    15  40\n",
       "cola       3   9"
      ]
     },
     "execution_count": 589,
     "metadata": {},
     "output_type": "execute_result"
    }
   ],
   "source": [
    "# Log:  Date product no_of_items price\n",
    "\n",
    "log_1 = \"\"\"Apr-04 cola 1 5\n",
    "Dec-15 cola 2 4\n",
    "Feb-02 Sandwith 3 22\n",
    "Mar-03 burger 8 11\n",
    "Feb-22 Sandwith 3 22\n",
    "Feb-23 burger 5 15\n",
    "Mar-08 burger 2 14\"\"\"    ## Add more examples\n",
    "\n",
    "def parse_to_int_2_3(x):\n",
    "    [x[1], int(x[2]), int(x[3])]\n",
    "\n",
    "print(log_1)\n",
    "log_2 = log_1.split('\\n')\n",
    "log_3 = list(map(lambda x: x.split(' '), log_2))\n",
    "log_4 = list(map(lambda x: [x[1], int(x[2]), int(x[3])], log_3))\n",
    "\n",
    "import pandas\n",
    "log_5 = pandas.DataFrame(log_4)\n",
    "log_5 = log_5.groupby(0).sum()\n",
    "log_5 = log_5.sort_values(by = [2], ascending = False)\n",
    "print ('Product which brought most money:\\n', log_5.head(1),'\\n summary:')\n",
    "\n",
    "log_5\n",
    "\n",
    "\n",
    "# TODO Find the best-selling item\n",
    "# TODO Create sales summary  [(product, total_items, average_price), (product, total_items, average_price) ...] "
   ]
  },
  {
   "cell_type": "markdown",
   "metadata": {},
   "source": [
    "## Miniproject\n",
    "\n",
    "1. Import book, clean the text and get the total number of words\n",
    "https://www.gutenberg.org/files/11/11-0.txt\n",
    "\n",
    "2. Try to run your script with text that include all TOP100 books from https://www.gutenberg.org/browse/scores/top\n",
    "\n",
    "3. What problems could appear during processing? Create a script to measure the execution/processing time. \n"
   ]
  },
  {
   "cell_type": "code",
   "execution_count": 590,
   "metadata": {},
   "outputs": [
    {
     "name": "stdout",
     "output_type": "stream",
     "text": [
      "There are 29390 words in the text.\n",
      "Time : 1.4762717610392428\n",
      "Words in top 100: 13140510\n",
      "Time for counting top 100: 319.6552114516526\n"
     ]
    }
   ],
   "source": [
    "from urllib.request import urlopen\n",
    "from urllib.error import HTTPError\n",
    "import time\n",
    "import re\n",
    "import requests\n",
    "from bs4 import BeautifulSoup\n",
    "\n",
    "def get_raw_text_link(x): #processing time of 5 minutes is just a bit of a pain, still I think that bigger problem is that\n",
    "    single_book_page = requests.get(x) #they're gonna ban my IP if I overuse this function\n",
    "    link_to_raw_text = BeautifulSoup(single_book_page.text, \"lxml\")\n",
    "    link_body = link_to_raw_text.find('a', text='Plain Text UTF-8')\n",
    "    if not (link_body is None):\n",
    "        return 'https:' + link_to_raw_text.find('a', text='Plain Text UTF-8')['href']\n",
    "    else:\n",
    "        return 0\n",
    "# For some reason their link format is just weird\n",
    "\n",
    "def get_rel_link(x):\n",
    "    soup = BeautifulSoup(x, \"lxml\")\n",
    "    return soup.a['href']\n",
    "\n",
    "def count_words(link):\n",
    "\n",
    "    if(isinstance(link, str)):\n",
    "        data = urlopen(link)\n",
    "\n",
    "        translator = str.maketrans('', '', string.punctuation)\n",
    "        count_words_here = data.read()\n",
    "        count_words_here = count_words_here.decode('utf-8')\n",
    "        count_words_here = re.sub(r'[\\r\\n]', ' ', count_words_here)\n",
    "        count_words_here = re.sub(r'[^\\w\\s]', '', count_words_here)\n",
    "        return reduce(lambda x,y: x+y, list(map(lambda x: 1, count_words_here.split())))\n",
    "    else:\n",
    "        return link\n",
    "\n",
    "tic = time.clock()\n",
    "print(\"There are\", count_words(\"https://www.gutenberg.org/files/11/11-0.txt\"), \"words in the text.\")\n",
    "toc = time.clock()\n",
    "print(\"Time :\", toc-tic)\n",
    "\n",
    "tic = time.clock()\n",
    "\n",
    "base = 'https://www.gutenberg.org'\n",
    "response = requests.get('http://www.gutenberg.org/browse/scores/top') # Get the raw HTML of the site\n",
    "raw_list = re.split('<ol>|<\\/ol>', response.text)[1] # The first ordered list on the site is the list of books.\n",
    "num_list = re.split('<li>', raw_list)\n",
    "del num_list[0]\n",
    "\n",
    "links_to_filelists = list(map(lambda x: base + get_rel_link(x), num_list))\n",
    "amounts_of_words = list(map(lambda x: count_words(get_raw_text_link(x)), links_to_filelists))\n",
    "words_total = reduce(lambda x,y: x+y, amounts_of_words)\n",
    "\n",
    "toc = time.clock()\n",
    "print(\"Words in top 100:\", words_total) # Forgive me, I assume 0 if there is no plain text file\n",
    "print(\"Time for counting top 100:\", toc-tic)"
   ]
  }
 ],
 "metadata": {
  "kernelspec": {
   "display_name": "Python 3",
   "language": "python",
   "name": "python3"
  },
  "language_info": {
   "codemirror_mode": {
    "name": "ipython",
    "version": 3
   },
   "file_extension": ".py",
   "mimetype": "text/x-python",
   "name": "python",
   "nbconvert_exporter": "python",
   "pygments_lexer": "ipython3",
   "version": "3.6.3"
  }
 },
 "nbformat": 4,
 "nbformat_minor": 2
}
